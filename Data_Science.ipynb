{
  "nbformat": 4,
  "nbformat_minor": 0,
  "metadata": {
    "colab": {
      "provenance": [],
      "gpuType": "T4",
      "authorship_tag": "ABX9TyM9As3GutQ/6mUlIAMWmTp7",
      "include_colab_link": true
    },
    "kernelspec": {
      "name": "python3",
      "display_name": "Python 3"
    },
    "language_info": {
      "name": "python"
    },
    "accelerator": "GPU"
  },
  "cells": [
    {
      "cell_type": "markdown",
      "metadata": {
        "id": "view-in-github",
        "colab_type": "text"
      },
      "source": [
        "<a href=\"https://colab.research.google.com/github/FatimaJabeen123/Data-Analysis/blob/main/Data_Science.ipynb\" target=\"_parent\"><img src=\"https://colab.research.google.com/assets/colab-badge.svg\" alt=\"Open In Colab\"/></a>"
      ]
    },
    {
      "cell_type": "markdown",
      "source": [
        "# **Exploratory Data Analysis:**\n",
        "\n",
        "---\n",
        "\n",
        "\n",
        "   \n",
        "   Exploratory data analysis is the process of exploring ,summarizing and visualizing data to understand its structure ,patterns andd potential problems before building any model .\n",
        "\n",
        "\n",
        "**Explanation**\n",
        "\n",
        "1. Import Libraries\n",
        "\n",
        "pandas as pd: Used for data manipulation and analysis. It provides the DataFrame structure.\n",
        "\n",
        "seaborn as sns: A visualization library based on matplotlib. Good for statistical plots.\n",
        "\n",
        "matplotlib.pyplot as plt: Core Python plotting library. Used to display charts and plots.\n",
        "\n",
        "2. Create a Dictionary\n",
        "\n",
        "'Age' as a key with a list of integers\n",
        "\n",
        "'Score' as another key with corresponding values.\n",
        "\n",
        "3. Convert to DataFrame\n",
        "\n",
        "pd.DataFrame creates a tabular data structure (rows and columns) from the dictionary.\n",
        "\n",
        "4. View Top Rows\n",
        "\n",
        "head() is helpful to get a quick preview of your data.\n",
        "\n",
        "5. Statistical Summary\n",
        "\n",
        "Count, Mean, Std (standard deviation), Min, Max, and Percentiles.\n",
        "\n",
        "\n",
        "Useful for understanding the spread and central tendencies of numeric columns.\n",
        "\n",
        "6. Histogram of Age\n",
        "\n",
        "sns.histplot() creates a histogram for the Age column to show distribution (frequency of age values).\n",
        "\n",
        "plt.show() displays the plot.\n",
        "\n",
        "7. Scatter Plot: Age vs Score\n",
        "\n",
        "sns.scatterplot() plots individual points for Age vs Score.\n",
        "\n",
        "x='Age' and y='Score' specify axes; data=df tells Seaborn to use our DataFrame."
      ],
      "metadata": {
        "id": "skpUirgIaFqG"
      }
    },
    {
      "cell_type": "code",
      "source": [
        "\n",
        "import pandas as pd\n",
        "import seaborn as sns\n",
        "import matplotlib.pyplot as plt\n",
        "\n",
        "data = {'Age': [25, 30, 22, 40, 28], 'Score': [88, 92, 95, 70, 85]}\n",
        "df = pd.DataFrame(data)                  # Create DataFrame\n",
        "print(df.head())                         # Show top rows\n",
        "print(df.describe())                     # Stats summary\n",
        "sns.histplot(df['Age'])                  # Age distribution\n",
        "plt.show()\n",
        "sns.scatterplot(x='Age', y='Score', data=df)  # Scatter plot\n",
        "plt.show()"
      ],
      "metadata": {
        "colab": {
          "base_uri": "https://localhost:8080/",
          "height": 689
        },
        "id": "qMv1nsyS0oDq",
        "outputId": "3d68ff8a-d8d6-4ada-f286-265254743665"
      },
      "execution_count": null,
      "outputs": [
        {
          "output_type": "stream",
          "name": "stdout",
          "text": [
            "   Age  Score\n",
            "0   25     88\n",
            "1   30     92\n",
            "2   22     95\n",
            "3   40     70\n",
            "4   28     85\n",
            "             Age      Score\n",
            "count   5.000000   5.000000\n",
            "mean   29.000000  86.000000\n",
            "std     6.855655   9.721111\n",
            "min    22.000000  70.000000\n",
            "25%    25.000000  85.000000\n",
            "50%    28.000000  88.000000\n",
            "75%    30.000000  92.000000\n",
            "max    40.000000  95.000000\n"
          ]
        },
        {
          "output_type": "display_data",
          "data": {
            "text/plain": [
              "<Figure size 640x480 with 1 Axes>"
            ],
            "image/png": "[encoded data removed]"
          },
          "metadata": {}
        },
        {
          "output_type": "display_data",
          "data": {
            "text/plain": [
              "<Figure size 640x480 with 1 Axes>"
            ],
            "image/png": "[encoded data removed]"
          },
          "metadata": {}
        }
      ]
    },
    {
      "cell_type": "markdown",
      "source": [
        "# **Handling missing data :**\n",
        "\n",
        "---\n",
        "\n",
        "\n",
        "\n",
        "**Data can be miss in different ways**\n",
        "1.   Completely miss\n",
        "2.   Ramanadly missing\n",
        "3.   Not Ramanadly missing\n",
        "\n",
        "\n",
        "\n",
        " **Common ways to handle missing data:**\n",
        "\n",
        "1.  Remove missing data\n",
        "2.  Imputing(filling) missing data\n",
        "\n",
        "**Explanation:**\n",
        "\n",
        "1. Import Libraries\n",
        "\n",
        "pandas: For handling tabular data (DataFrame).\n",
        "\n",
        "seaborn: For advanced visualizations.\n",
        "\n",
        "matplotlib.pyplot: For showing the plot.\n",
        "\n",
        "2. Create DataFrame with Missing Values\n",
        "\n",
        "A dictionary is created with some None values (representing missing data).\n",
        "\n",
        "pd.DataFrame(data) converts it into a DataFrame:\n",
        "\n",
        "3. Check for Missing Values\n",
        "\n",
        "df.isnull() returns True for missing (NaN) values.\n",
        "\n",
        ".sum() counts how many NaNs are in each column.\n",
        "\n",
        "4. Handle Missing Values\n",
        "\n",
        "df.mean() calculates the mean of each numeric column.\n",
        "\n",
        "fillna() fills missing values with that mean.\n",
        "\n",
        "5. Show Summary Statistics\n",
        "\n",
        "Displays count, mean, std (standard deviation), min, max, and percentiles for each column after filling missing valu\n",
        "\n",
        "6. Correlation Heatmap\n",
        "\n",
        "df.corr() computes correlation matrix:\n",
        "\n",
        "sns.heatmap() creates a heatmap (colored matrix) to visualize it.\n",
        "\n",
        "annot=True shows numeric values inside the heatmap cells\n",
        "\n",
        "7. Show the Plot"
      ],
      "metadata": {
        "id": "Oy0H2Z_B2s8j"
      }
    },
    {
      "cell_type": "code",
      "source": [
        "\n",
        "import pandas as pd\n",
        "import seaborn as sns\n",
        "import matplotlib.pyplot as plt\n",
        "\n",
        "data = {'Age': [25, 30, None, 40, 28], 'Score': [88, None, 95, 70, 85]}\n",
        "df = pd.DataFrame(data)                      # Create DataFrame with missing data\n",
        "print(df.isnull().sum())                     # Count missing values\n",
        "df = df.fillna(df.mean(numeric_only=True))   # Fill missing with column mean\n",
        "print(df.describe())                         # Summary stats\n",
        "sns.heatmap(df.corr(), annot=True)           # Correlation heatmap\n",
        "plt.show()"
      ],
      "metadata": {
        "colab": {
          "base_uri": "https://localhost:8080/",
          "height": 440
        },
        "id": "Orc6JGOc0mn8",
        "outputId": "68daef00-7129-48b2-d444-3816c0d3d942"
      },
      "execution_count": null,
      "outputs": [
        {
          "output_type": "stream",
          "name": "stdout",
          "text": [
            "Age      1\n",
            "Score    1\n",
            "dtype: int64\n",
            "             Age      Score\n",
            "count   5.000000   5.000000\n",
            "mean   30.750000  84.500000\n",
            "std     5.629165   9.124144\n",
            "min    25.000000  70.000000\n",
            "25%    28.000000  84.500000\n",
            "50%    30.000000  85.000000\n",
            "75%    30.750000  88.000000\n",
            "max    40.000000  95.000000\n"
          ]
        },
        {
          "output_type": "display_data",
          "data": {
            "text/plain": [
              "<Figure size 640x480 with 2 Axes>"
            ],
            "image/png": "[encoded data removed]"
          },
          "metadata": {}
        }
      ]
    },
    {
      "cell_type": "markdown",
      "source": [
        "# **Handling Outliers in data:**\n",
        "\n",
        "---\n",
        "\n",
        "\n",
        "\n",
        "Handling outliers involves detecting and treating values in your dataset that are significantly different from others.\n",
        "\n",
        "Common method to handle outliers:\n",
        "\n",
        "1.  Removal\n",
        "2.  Transformation\n",
        "3.  Imputation\n",
        "\n",
        "\n",
        "**Explanation:**\n",
        "\n",
        "Step 1: Import Libraries\n",
        "\n",
        "import pandas as pd\n",
        "import numpy as np\n",
        "\n",
        "pandas: Used for data manipulation and analysis.\n",
        "\n",
        "numpy: Used for numerical operations (not essential here but commonly used).\n",
        "\n",
        "Step 2: Create Sample Data\n",
        "\n",
        "A simple dataset with a clear outlier (120 is much higher than the rest).\n",
        "\n",
        "Step 3: Calculate Quartiles and IQR\n",
        "\n",
        "Q1 and Q3 divide the data into sections.\n",
        "\n",
        "IQR represents the middle 50% of the data.\n",
        "\n",
        "Outliers are defined as values below Q1 - 1.5 * IQR or above Q3 + 1.5 * IQR\n",
        "\n",
        "Step 4: Define Bounds\n",
        "\n",
        "These bounds mark the \"normal\" range.\n",
        "\n",
        "Values outside this range are considered outliers."
      ],
      "metadata": {
        "id": "qc3n131raEXA"
      }
    },
    {
      "cell_type": "code",
      "source": [
        "\n",
        "import pandas as pd\n",
        "import numpy as np\n",
        "\n",
        "# Sample data\n",
        "data = {'Score': [10, 12, 13, 14, 15, 16, 17, 120]}\n",
        "df = pd.DataFrame(data)\n",
        "\n",
        "# Detecting outliers using IQR\n",
        "Q1 = df['Score'].quantile(0.25)\n",
        "Q3 = df['Score'].quantile(0.75)\n",
        "IQR = Q3 - Q1\n",
        "lower_bound = Q1 - 1.5 * IQR\n",
        "upper_bound = Q3 + 1.5 * IQR\n",
        "\n",
        "# Filtering out the outliers\n",
        "df_no_outliers = df[(df['Score'] >= lower_bound) & (df['Score'] <= upper_bound)]\n",
        "\n",
        "print(\"Original Data:\\n\", df)\n",
        "print(\"\\nFiltered Data (Outliers Removed):\\n\", df_no_outliers)"
      ],
      "metadata": {
        "id": "DCe9Rtq42E7B",
        "colab": {
          "base_uri": "https://localhost:8080/"
        },
        "outputId": "979dc220-21ac-46c0-9270-7a8505d2d0ed"
      },
      "execution_count": null,
      "outputs": [
        {
          "output_type": "stream",
          "name": "stdout",
          "text": [
            "Original Data:\n",
            "    Score\n",
            "0     10\n",
            "1     12\n",
            "2     13\n",
            "3     14\n",
            "4     15\n",
            "5     16\n",
            "6     17\n",
            "7    120\n",
            "\n",
            "Filtered Data (Outliers Removed):\n",
            "    Score\n",
            "0     10\n",
            "1     12\n",
            "2     13\n",
            "3     14\n",
            "4     15\n",
            "5     16\n",
            "6     17\n"
          ]
        }
      ]
    },
    {
      "cell_type": "markdown",
      "source": [
        "# **Categorical Encoding:**\n",
        "\n",
        "---\n",
        "\n",
        "\n",
        "\n",
        "Categorical encoding is the process of converting categorical variables (like \"red\", \"blue\", \"green\") into numerical formats so that machine learning models can understand and process them.\n",
        "\n",
        "**Explanation:**\n",
        "\n",
        "Step 1: Import Required Libraries\n",
        "\n",
        "pandas: To create and manipulate the DataFrame.\n",
        "\n",
        "LabelEncoder: From scikit-learn, used for converting categories into numerical labels.\n",
        "\n",
        "Step 2: Create Sample Data\n",
        "\n",
        "A simple DataFrame with one categorical column named \"Color\".\n",
        "\n",
        "It has 3 unique values: 'Red', 'Green', and 'Blue'.\n",
        "\n",
        "Step 3: Apply Label Encoding\n",
        "Creates a LabelEncoder object.\n",
        "\n",
        "fit_transform() assigns an integer to each category:\n",
        "\n",
        "'Blue' → 0\n",
        "\n",
        "'Green' → 1\n",
        "\n",
        "'Red' → 2\n",
        "\n",
        "\n",
        "The new column \"Color_Label\" contains these integer values.\n",
        "\n",
        "Step 4: Apply One-Hot Encoding\n",
        "\n",
        "Converts each category into its own binary column.\n",
        "\n",
        "For example:\n",
        "\n",
        "'Red' becomes: Color_Red=1, Color_Green=0, Color_Blue=0\n",
        "\n",
        "'Green' becomes: Color_Red=0, Color_Green=1, Color_Blue=0\n",
        "\n",
        "Step 5: Combine Encoded Data\n",
        "\n",
        "Joins the original DataFrame (with the label column) and the one-hot encoded columns side by side using axis=1.\n",
        "\n",
        "Step 6: Print Results"
      ],
      "metadata": {
        "id": "Olekh10twkXq"
      }
    },
    {
      "cell_type": "code",
      "source": [
        "\n",
        "import pandas as pd\n",
        "from sklearn.preprocessing import LabelEncoder\n",
        "\n",
        "# Sample data\n",
        "df = pd.DataFrame({\n",
        "    'Color': ['Red', 'Green', 'Blue', 'Green', 'Red', 'Blue']\n",
        "})\n",
        "\n",
        "# Label Encoding\n",
        "label_encoder = LabelEncoder()\n",
        "df['Color_Label'] = label_encoder.fit_transform(df['Color'])\n",
        "\n",
        "# One-Hot Encoding\n",
        "df_one_hot = pd.get_dummies(df['Color'], prefix='Color')\n",
        "\n",
        "# Combine all\n",
        "result = pd.concat([df, df_one_hot], axis=1)\n",
        "\n",
        "print(\"Original Data:\\n\", df)\n",
        "print(\"\\nOne-Hot Encoded Data:\\n\", result)"
      ],
      "metadata": {
        "colab": {
          "base_uri": "https://localhost:8080/"
        },
        "id": "wrhfd-dfwjDf",
        "outputId": "9a4adb30-9fd2-4ef9-dcfc-6fd554dd82a2"
      },
      "execution_count": null,
      "outputs": [
        {
          "output_type": "stream",
          "name": "stdout",
          "text": [
            "Original Data:\n",
            "    Color  Color_Label\n",
            "0    Red            2\n",
            "1  Green            1\n",
            "2   Blue            0\n",
            "3  Green            1\n",
            "4    Red            2\n",
            "5   Blue            0\n",
            "\n",
            "One-Hot Encoded Data:\n",
            "    Color  Color_Label  Color_Blue  Color_Green  Color_Red\n",
            "0    Red            2       False        False       True\n",
            "1  Green            1       False         True      False\n",
            "2   Blue            0        True        False      False\n",
            "3  Green            1       False         True      False\n",
            "4    Red            2       False        False       True\n",
            "5   Blue            0        True        False      False\n"
          ]
        }
      ]
    },
    {
      "cell_type": "markdown",
      "source": [
        "**Standardization and normalization:**\n",
        "---\n",
        "\n",
        "**Explanation:**\n",
        "\n",
        "Step 1: Import Libraries\n",
        "\n",
        "pandas: For creating and managing the DataFrame.\n",
        "\n",
        "StandardScaler: Scales data using standardization (mean = 0, std = 1).\n",
        "\n",
        "MinMaxScaler: Scales data using normalization (range between 0 and 1).\n",
        "\n",
        "Step 2: Create Sample Data\n",
        "\n",
        "A simple DataFrame with 2 numerical columns: Height and Weight.\n",
        "\n",
        "Step 3: Standardization\n",
        "\n",
        "StandardScaler() creates a scaler object.\n",
        "\n",
        "fit_transform(df):\n",
        "\n",
        "Calculates the mean and standard deviation of each column.\n",
        "\n",
        "Transforms each value using the formula:\n",
        "\n",
        "\n",
        "\n",
        "The result is stored in df_standardized and converted back to a DataFrame.\n",
        "\n",
        "\n",
        "Step 4: Normalization\n",
        "\n",
        "MinMaxScaler() creates another scaler object.\n",
        "\n",
        "fit_transform(df):\n",
        "\n",
        "Finds the min and max values in each column.\n",
        "\n",
        "The result is stored in df_normalized.\n",
        "\n",
        "Step 5: Display Results"
      ],
      "metadata": {
        "id": "D-MPvEacxPua"
      }
    },
    {
      "cell_type": "code",
      "source": [
        "\n",
        "import pandas as pd\n",
        "from sklearn.preprocessing import StandardScaler, MinMaxScaler\n",
        "\n",
        "# Sample data\n",
        "df = pd.DataFrame({\n",
        "    'Height': [150, 160, 165, 170, 180],\n",
        "    'Weight': [50, 60, 65, 70, 80]\n",
        "})\n",
        "\n",
        "# Standardization\n",
        "scaler_standard = StandardScaler()\n",
        "df_standardized = pd.DataFrame(scaler_standard.fit_transform(df), columns=df.columns)\n",
        "\n",
        "# Normalization\n",
        "scaler_minmax = MinMaxScaler()\n",
        "df_normalized = pd.DataFrame(scaler_minmax.fit_transform(df), columns=df.columns)\n",
        "\n",
        "print(\"Original Data:\\n\", df)\n",
        "print(\"\\nStandardized Data:\\n\", df_standardized)\n",
        "print(\"\\nNormalized Data:\\n\", df_normalized)"
      ],
      "metadata": {
        "colab": {
          "base_uri": "https://localhost:8080/"
        },
        "id": "Otfap6CfxWFp",
        "outputId": "736db755-f4be-4da8-9ef4-68af1ed74f45"
      },
      "execution_count": null,
      "outputs": [
        {
          "output_type": "stream",
          "name": "stdout",
          "text": [
            "Original Data:\n",
            "    Height  Weight\n",
            "0     150      50\n",
            "1     160      60\n",
            "2     165      65\n",
            "3     170      70\n",
            "4     180      80\n",
            "\n",
            "Standardized Data:\n",
            "    Height  Weight\n",
            "0    -1.5    -1.5\n",
            "1    -0.5    -0.5\n",
            "2     0.0     0.0\n",
            "3     0.5     0.5\n",
            "4     1.5     1.5\n",
            "\n",
            "Normalized Data:\n",
            "      Height    Weight\n",
            "0  0.000000  0.000000\n",
            "1  0.333333  0.333333\n",
            "2  0.500000  0.500000\n",
            "3  0.666667  0.666667\n",
            "4  1.000000  1.000000\n"
          ]
        }
      ]
    }
  ]
}